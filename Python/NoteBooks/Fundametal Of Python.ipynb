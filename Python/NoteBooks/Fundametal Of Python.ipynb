{
 "cells": [
  {
   "cell_type": "code",
   "execution_count": 2,
   "id": "289eaace",
   "metadata": {},
   "outputs": [
    {
     "name": "stdout",
     "output_type": "stream",
     "text": [
      "hello world\n"
     ]
    }
   ],
   "source": [
    "print(\"hello world\");"
   ]
  },
  {
   "cell_type": "code",
   "execution_count": 2,
   "id": "c1cd40b7",
   "metadata": {},
   "outputs": [
    {
     "name": "stdout",
     "output_type": "stream",
     "text": [
      "22\n"
     ]
    }
   ],
   "source": [
    "x = 22 \n",
    "print(x)"
   ]
  },
  {
   "cell_type": "code",
   "execution_count": 3,
   "id": "153d0f36",
   "metadata": {},
   "outputs": [
    {
     "name": "stdout",
     "output_type": "stream",
     "text": [
      "Aya Oraby\n"
     ]
    }
   ],
   "source": [
    "y = \"Aya Oraby\"\n",
    "print(y)"
   ]
  },
  {
   "cell_type": "code",
   "execution_count": 4,
   "id": "5e409985",
   "metadata": {},
   "outputs": [
    {
     "data": {
      "text/plain": [
       "str"
      ]
     },
     "execution_count": 4,
     "metadata": {},
     "output_type": "execute_result"
    }
   ],
   "source": [
    "type(y)"
   ]
  },
  {
   "cell_type": "code",
   "execution_count": 6,
   "id": "ad445a20",
   "metadata": {},
   "outputs": [
    {
     "name": "stdout",
     "output_type": "stream",
     "text": [
      "aya helmy oraby \n"
     ]
    }
   ],
   "source": [
    "x,y,z = \"aya\",\"helmy\" , \"oraby \"\n",
    "print(x,y,z)\n"
   ]
  },
  {
   "cell_type": "code",
   "execution_count": null,
   "id": "26c7a585",
   "metadata": {},
   "outputs": [],
   "source": [
    "name = [\"aya\",\"helmy\", \"Oraby\"]"
   ]
  },
  {
   "cell_type": "code",
   "execution_count": null,
   "id": "89148800",
   "metadata": {},
   "outputs": [],
   "source": [
    "x,y,z = name"
   ]
  },
  {
   "cell_type": "code",
   "execution_count": 7,
   "id": "dcb90ef7",
   "metadata": {},
   "outputs": [
    {
     "name": "stdout",
     "output_type": "stream",
     "text": [
      "aya helmy oraby \n"
     ]
    }
   ],
   "source": [
    "print(x,y,z)"
   ]
  },
  {
   "cell_type": "code",
   "execution_count": 14,
   "id": "490d17a1",
   "metadata": {},
   "outputs": [
    {
     "name": "stdout",
     "output_type": "stream",
     "text": [
      "ayaoraby\n"
     ]
    }
   ],
   "source": [
    "# testvarcase \n",
    "\n",
    "test_variable = \"ayaoraby\"\n",
    "print(test_variable)"
   ]
  },
  {
   "cell_type": "code",
   "execution_count": 16,
   "id": "6f1b71b4",
   "metadata": {},
   "outputs": [
    {
     "name": "stdout",
     "output_type": "stream",
     "text": [
      "ayaoraby\n"
     ]
    }
   ],
   "source": [
    "test_variable = 'ayaoraby'\n",
    "print(test_variable)"
   ]
  },
  {
   "cell_type": "code",
   "execution_count": 22,
   "id": "1ffa659c",
   "metadata": {},
   "outputs": [
    {
     "name": "stdout",
     "output_type": "stream",
     "text": [
      "ayaoraby 4\n"
     ]
    }
   ],
   "source": [
    "\n",
    "x = \"aya\"+\"oraby\"\n",
    "y = 4\n",
    "print(x,y)"
   ]
  },
  {
   "cell_type": "code",
   "execution_count": null,
   "id": "543c03c7",
   "metadata": {},
   "outputs": [],
   "source": []
  },
  {
   "cell_type": "markdown",
   "id": "c3e94109",
   "metadata": {},
   "source": [
    "# Data Types\n"
   ]
  },
  {
   "cell_type": "code",
   "execution_count": 23,
   "id": "e9299576",
   "metadata": {},
   "outputs": [
    {
     "data": {
      "text/plain": [
       "int"
      ]
     },
     "execution_count": 23,
     "metadata": {},
     "output_type": "execute_result"
    }
   ],
   "source": [
    "type ( 12 - 4)"
   ]
  },
  {
   "cell_type": "code",
   "execution_count": 24,
   "id": "007ec160",
   "metadata": {},
   "outputs": [
    {
     "data": {
      "text/plain": [
       "float"
      ]
     },
     "execution_count": 24,
     "metadata": {},
     "output_type": "execute_result"
    }
   ],
   "source": [
    "type (12 + 16.00)"
   ]
  },
  {
   "cell_type": "code",
   "execution_count": 25,
   "id": "d6779123",
   "metadata": {},
   "outputs": [
    {
     "data": {
      "text/plain": [
       "complex"
      ]
     },
     "execution_count": 25,
     "metadata": {},
     "output_type": "execute_result"
    }
   ],
   "source": [
    "type ( 2+2j)"
   ]
  },
  {
   "cell_type": "code",
   "execution_count": 26,
   "id": "1c7ca722",
   "metadata": {},
   "outputs": [
    {
     "data": {
      "text/plain": [
       "False"
      ]
     },
     "execution_count": 26,
     "metadata": {},
     "output_type": "execute_result"
    }
   ],
   "source": [
    " 1 > 5"
   ]
  },
  {
   "cell_type": "code",
   "execution_count": null,
   "id": "b49a0dae",
   "metadata": {},
   "outputs": [],
   "source": [
    "# String"
   ]
  },
  {
   "cell_type": "code",
   "execution_count": 27,
   "id": "4759e751",
   "metadata": {},
   "outputs": [
    {
     "data": {
      "text/plain": [
       "'Single quote'"
      ]
     },
     "execution_count": 27,
     "metadata": {},
     "output_type": "execute_result"
    }
   ],
   "source": [
    "'Single quote'"
   ]
  },
  {
   "cell_type": "code",
   "execution_count": 28,
   "id": "c3033f70",
   "metadata": {},
   "outputs": [
    {
     "data": {
      "text/plain": [
       "'Aya Helmy Oraby '"
      ]
     },
     "execution_count": 28,
     "metadata": {},
     "output_type": "execute_result"
    }
   ],
   "source": [
    "\"\"\"Aya Helmy Oraby \"\"\""
   ]
  },
  {
   "cell_type": "code",
   "execution_count": 31,
   "id": "ce0a0062",
   "metadata": {},
   "outputs": [
    {
     "name": "stdout",
     "output_type": "stream",
     "text": [
      "o\n",
      "aya orabyaya orabyaya oraby\n"
     ]
    }
   ],
   "source": [
    "a = \"aya oraby\"\n",
    "print (a[4])\n",
    "print(a*3)"
   ]
  },
  {
   "cell_type": "code",
   "execution_count": 32,
   "id": "56c1c1a3",
   "metadata": {},
   "outputs": [
    {
     "data": {
      "text/plain": [
       "['aya', 'helmy', 'oraby']"
      ]
     },
     "execution_count": 32,
     "metadata": {},
     "output_type": "execute_result"
    }
   ],
   "source": [
    "[\"aya\",\"helmy\",\"oraby\"]"
   ]
  },
  {
   "cell_type": "code",
   "execution_count": 35,
   "id": "832c5683",
   "metadata": {},
   "outputs": [
    {
     "name": "stdout",
     "output_type": "stream",
     "text": [
      "['aya', 'helmy']\n"
     ]
    }
   ],
   "source": [
    "var  = [\"aya\" , 3 , [\"aya\", \"helmy\"]]\n",
    "print (var[2])"
   ]
  },
  {
   "cell_type": "code",
   "execution_count": null,
   "id": "eeeaa526",
   "metadata": {},
   "outputs": [],
   "source": [
    "#tuples "
   ]
  },
  {
   "cell_type": "code",
   "execution_count": 37,
   "id": "54678c2d",
   "metadata": {},
   "outputs": [
    {
     "data": {
      "text/plain": [
       "tuple"
      ]
     },
     "execution_count": 37,
     "metadata": {},
     "output_type": "execute_result"
    }
   ],
   "source": [
    "tuples = (1,2,3,4)\n",
    "type(tuples)"
   ]
  },
  {
   "cell_type": "code",
   "execution_count": 39,
   "id": "506a1eda",
   "metadata": {},
   "outputs": [
    {
     "data": {
      "text/plain": [
       "set"
      ]
     },
     "execution_count": 39,
     "metadata": {},
     "output_type": "execute_result"
    }
   ],
   "source": [
    "#sets \n",
    "daily_pints = {1,2,3,5}\n",
    "type(daily_pints)\n"
   ]
  },
  {
   "cell_type": "code",
   "execution_count": 44,
   "id": "dd1657f7",
   "metadata": {},
   "outputs": [
    {
     "name": "stdout",
     "output_type": "stream",
     "text": [
      "{1, 2, 3, 4, 6}\n",
      "{3}\n",
      "{1, 2, 4, 6}\n"
     ]
    }
   ],
   "source": [
    "aya = {1,2,3}\n",
    "oraby = {3,4,6}\n",
    "\n",
    "print(aya| oraby)\n",
    "print(aya&oraby)\n",
    "print(aya^oraby)"
   ]
  },
  {
   "cell_type": "code",
   "execution_count": 54,
   "id": "39430abc",
   "metadata": {},
   "outputs": [
    {
     "data": {
      "text/plain": [
       "dict"
      ]
     },
     "execution_count": 54,
     "metadata": {},
     "output_type": "execute_result"
    }
   ],
   "source": [
    "#dictionaries \n",
    "diction = {\"name\":\"helmy\", \"detail\" : [\"aya\",\"oraby\"]}\n",
    "type(diction) \n",
    "# del diction[\"name\"]\n",
    "# print(diction)\n",
    "\n",
    "\n"
   ]
  },
  {
   "cell_type": "code",
   "execution_count": 56,
   "id": "a983608f",
   "metadata": {},
   "outputs": [
    {
     "data": {
      "text/plain": [
       "True"
      ]
     },
     "execution_count": 56,
     "metadata": {},
     "output_type": "execute_result"
    }
   ],
   "source": [
    "#operator\n",
    "10 ==10\n",
    "\n",
    "\n"
   ]
  },
  {
   "cell_type": "code",
   "execution_count": 61,
   "id": "658f3681",
   "metadata": {},
   "outputs": [
    {
     "data": {
      "text/plain": [
       "True"
      ]
     },
     "execution_count": 61,
     "metadata": {},
     "output_type": "execute_result"
    }
   ],
   "source": [
    " 10 ==10\n"
   ]
  },
  {
   "cell_type": "code",
   "execution_count": 64,
   "id": "39bd0d09",
   "metadata": {},
   "outputs": [
    {
     "data": {
      "text/plain": [
       "True"
      ]
     },
     "execution_count": 64,
     "metadata": {},
     "output_type": "execute_result"
    }
   ],
   "source": [
    "x = \" aya\"\n",
    "y = \"oraby \"\n",
    "x!=y"
   ]
  },
  {
   "cell_type": "code",
   "execution_count": 65,
   "id": "000902d6",
   "metadata": {},
   "outputs": [
    {
     "data": {
      "text/plain": [
       "False"
      ]
     },
     "execution_count": 65,
     "metadata": {},
     "output_type": "execute_result"
    }
   ],
   "source": [
    "(20 > 45 and 45 >94)"
   ]
  },
  {
   "cell_type": "code",
   "execution_count": 67,
   "id": "e3821a05",
   "metadata": {},
   "outputs": [
    {
     "data": {
      "text/plain": [
       "False"
      ]
     },
     "execution_count": 67,
     "metadata": {},
     "output_type": "execute_result"
    }
   ],
   "source": [
    "icecream = \"i love ice cream\"\n",
    "\"love\" not in icecream"
   ]
  },
  {
   "cell_type": "code",
   "execution_count": 78,
   "id": "52732e9c",
   "metadata": {},
   "outputs": [
    {
     "name": "stdout",
     "output_type": "stream",
     "text": [
      "great\n"
     ]
    }
   ],
   "source": [
    "if 23 > 5 : print( \"great\")\n",
    "elif 43 > 55: print(\"notgreat\")\n",
    "else: print(\"sad\")"
   ]
  },
  {
   "cell_type": "code",
   "execution_count": 85,
   "id": "43b84bfe",
   "metadata": {},
   "outputs": [
    {
     "name": "stdout",
     "output_type": "stream",
     "text": [
      "1\n",
      "yap\n",
      "2\n",
      "2\n",
      "yap\n",
      "4\n",
      "3\n",
      "yap\n",
      "6\n",
      "4\n",
      "yap\n",
      "8\n",
      "5\n",
      "yap\n",
      "10\n"
     ]
    }
   ],
   "source": [
    "#for loop \n",
    "integer = [1,2,3,4,5]\n",
    "for number in integer:\n",
    "    print(number)\n",
    "    print(\"yap\")\n",
    "    print( number +number )\n",
    "    \n",
    "    \n",
    "\n",
    "\n",
    "\n",
    "\n"
   ]
  },
  {
   "cell_type": "code",
   "execution_count": 89,
   "id": "c852f5d2",
   "metadata": {},
   "outputs": [
    {
     "name": "stdout",
     "output_type": "stream",
     "text": [
      "('name', 'aya')\n",
      "('fathername', ['Helmy', 'Oraby'])\n"
     ]
    }
   ],
   "source": [
    "name = { \"name\" : \"aya\" , \"fathername\": [\"Helmy\", \"Oraby\"]}\n",
    "for names in name.items() :\n",
    "    print(names)"
   ]
  },
  {
   "cell_type": "code",
   "execution_count": 91,
   "id": "0fcdd4f6",
   "metadata": {},
   "outputs": [
    {
     "name": "stdout",
     "output_type": "stream",
     "text": [
      "aya aya\n",
      "aya oraby \n",
      "oraby aya\n",
      "oraby oraby \n"
     ]
    }
   ],
   "source": [
    "# Nested Fpr Loop\n",
    "flavor = [\"aya\",\"oraby\"]\n",
    "topping = [\"aya\", \"oraby \"]\n",
    "for one in flavor:\n",
    "    for two in topping:\n",
    "        print(one,two)\n"
   ]
  },
  {
   "cell_type": "code",
   "execution_count": 107,
   "id": "a8c32ea1",
   "metadata": {},
   "outputs": [
    {
     "name": "stdout",
     "output_type": "stream",
     "text": [
      "0\n",
      "1\n",
      "2\n",
      "3\n"
     ]
    }
   ],
   "source": [
    "#while loop\n",
    "\n",
    "number = 0 \n",
    "while number < 6 :\n",
    "    print(number)\n",
    "    if number == 3:\n",
    "        break\n",
    "    number = number+1\n",
    "else :     \n",
    "    print(\"No longer\")"
   ]
  },
  {
   "cell_type": "code",
   "execution_count": 111,
   "id": "fed0e4c6",
   "metadata": {},
   "outputs": [
    {
     "name": "stdout",
     "output_type": "stream",
     "text": [
      "hello\n"
     ]
    }
   ],
   "source": [
    "def function():\n",
    "    print(\"hello\")\n",
    "function()\n"
   ]
  },
  {
   "cell_type": "code",
   "execution_count": 117,
   "id": "a6336d1c",
   "metadata": {},
   "outputs": [
    {
     "name": "stdout",
     "output_type": "stream",
     "text": [
      "64\n"
     ]
    }
   ],
   "source": [
    "def numsq(number,power):\n",
    "    print(number**power)\n",
    "numsq(4,3)    "
   ]
  },
  {
   "cell_type": "code",
   "execution_count": 121,
   "id": "26086e4c",
   "metadata": {},
   "outputs": [
    {
     "name": "stdout",
     "output_type": "stream",
     "text": [
      "2\n"
     ]
    }
   ],
   "source": [
    "def num(*num):\n",
    "    print(num[0]*num[1])\n",
    "num(1,2,3)    "
   ]
  },
  {
   "cell_type": "code",
   "execution_count": 122,
   "id": "280e877c",
   "metadata": {},
   "outputs": [
    {
     "name": "stdout",
     "output_type": "stream",
     "text": [
      "81\n"
     ]
    }
   ],
   "source": [
    "def numsq(number,power):\n",
    "    print(number**power)\n",
    "numsq(power = 4, number = 3)    "
   ]
  },
  {
   "cell_type": "code",
   "execution_count": 130,
   "id": "86a9af3b",
   "metadata": {},
   "outputs": [
    {
     "name": "stdout",
     "output_type": "stream",
     "text": [
      "5\n"
     ]
    }
   ],
   "source": [
    "def num(*num):\n",
    "    print(num[0])\n",
    "num(5,4,5,6)   "
   ]
  },
  {
   "cell_type": "code",
   "execution_count": 132,
   "id": "bb9ff3c6",
   "metadata": {},
   "outputs": [
    {
     "data": {
      "text/plain": [
       "str"
      ]
     },
     "execution_count": 132,
     "metadata": {},
     "output_type": "execute_result"
    }
   ],
   "source": [
    "#conerting data \n",
    "num  = 4 \n",
    "\n",
    "type(num)\n",
    "num = str(num)\n",
    "type(num)\n",
    "\n",
    "\n"
   ]
  },
  {
   "cell_type": "code",
   "execution_count": 133,
   "id": "8f5d805e",
   "metadata": {},
   "outputs": [
    {
     "data": {
      "text/plain": [
       "list"
      ]
     },
     "execution_count": 133,
     "metadata": {},
     "output_type": "execute_result"
    }
   ],
   "source": [
    "list = [1,2,3]\n",
    "type(list)"
   ]
  },
  {
   "cell_type": "code",
   "execution_count": 137,
   "id": "144d400b",
   "metadata": {},
   "outputs": [
    {
     "data": {
      "text/plain": [
       "{' ', 'a', 'e', 'i', 'k', 'l', 'o', 'p', 'r', 't', 'y'}"
      ]
     },
     "execution_count": 137,
     "metadata": {},
     "output_type": "execute_result"
    }
   ],
   "source": [
    "#dict \n",
    "\n",
    "log = \"i like to party\"\n",
    "set(log)\n",
    "\n",
    "\n"
   ]
  },
  {
   "cell_type": "code",
   "execution_count": 139,
   "id": "0a2be03f",
   "metadata": {},
   "outputs": [
    {
     "data": {
      "text/plain": [
       "{1, 2, 3, 5, 6}"
      ]
     },
     "execution_count": 139,
     "metadata": {},
     "output_type": "execute_result"
    }
   ],
   "source": [
    "list = [1,3,5,6,3,2,5,3]\n",
    "set(list)"
   ]
  },
  {
   "cell_type": "code",
   "execution_count": 157,
   "id": "349255ae",
   "metadata": {},
   "outputs": [
    {
     "data": {
      "text/plain": [
       "dict"
      ]
     },
     "execution_count": 157,
     "metadata": {},
     "output_type": "execute_result"
    }
   ],
   "source": [
    "dictype = {\"name\": \"Aya\" , \"Age\":23}\n",
    "type(dictype)\n",
    "\n",
    "\n"
   ]
  },
  {
   "cell_type": "code",
   "execution_count": 162,
   "id": "74db2d39",
   "metadata": {},
   "outputs": [
    {
     "data": {
      "text/plain": [
       "dict_items([('name', 'Aya'), ('Age', 23)])"
      ]
     },
     "execution_count": 162,
     "metadata": {},
     "output_type": "execute_result"
    }
   ],
   "source": [
    "dictype.items()\n"
   ]
  },
  {
   "cell_type": "code",
   "execution_count": 163,
   "id": "394aa14d",
   "metadata": {},
   "outputs": [
    {
     "data": {
      "text/plain": [
       "dict_values(['Aya', 23])"
      ]
     },
     "execution_count": 163,
     "metadata": {},
     "output_type": "execute_result"
    }
   ],
   "source": [
    "dictype.values()\n"
   ]
  },
  {
   "cell_type": "code",
   "execution_count": 164,
   "id": "ae02ce69",
   "metadata": {},
   "outputs": [
    {
     "data": {
      "text/plain": [
       "dict_keys(['name', 'Age'])"
      ]
     },
     "execution_count": 164,
     "metadata": {},
     "output_type": "execute_result"
    }
   ],
   "source": [
    "dictype.keys()\n"
   ]
  },
  {
   "cell_type": "code",
   "execution_count": null,
   "id": "1aca8393",
   "metadata": {},
   "outputs": [],
   "source": []
  }
 ],
 "metadata": {
  "kernelspec": {
   "display_name": "Python 3 (ipykernel)",
   "language": "python",
   "name": "python3"
  },
  "language_info": {
   "codemirror_mode": {
    "name": "ipython",
    "version": 3
   },
   "file_extension": ".py",
   "mimetype": "text/x-python",
   "name": "python",
   "nbconvert_exporter": "python",
   "pygments_lexer": "ipython3",
   "version": "3.11.4"
  }
 },
 "nbformat": 4,
 "nbformat_minor": 5
}
